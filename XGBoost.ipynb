{
  "nbformat": 4,
  "nbformat_minor": 0,
  "metadata": {
    "colab": {
      "name": "XGBoost.ipynb",
      "provenance": [],
      "collapsed_sections": [
        "b9heMWZdprGV",
        "aR3KDbRmpusE",
        "d3EjD_T7pv1E"
      ],
      "authorship_tag": "ABX9TyP0PnxsIHCHOSJnPWnH93BF",
      "include_colab_link": true
    },
    "kernelspec": {
      "name": "python3",
      "display_name": "Python 3"
    },
    "language_info": {
      "name": "python"
    }
  },
  "cells": [
    {
      "cell_type": "markdown",
      "metadata": {
        "id": "view-in-github",
        "colab_type": "text"
      },
      "source": [
        "<a href=\"https://colab.research.google.com/github/Vilash/machineLearning/blob/main/XGBoost.ipynb\" target=\"_parent\"><img src=\"https://colab.research.google.com/assets/colab-badge.svg\" alt=\"Open In Colab\"/></a>"
      ]
    },
    {
      "cell_type": "code",
      "metadata": {
        "id": "s7J_-Vc1nxa6"
      },
      "source": [
        "import pandas as pd\n",
        "import numpy as np\n",
        "import seaborn as sns\n",
        "import xgboost as xgb\n",
        "from sklearn.model_selection import train_test_split\n",
        "from sklearn.metrics import mean_squared_error\n",
        "from sklearn.model_selection import RandomizedSearchCV, GridSearchCV\n",
        "from sklearn_pandas import DataFrameMapper\n",
        "from sklearn_pandas import CategoricalImputer\n",
        "from sklearn.preprocessing import LabelEncoder, StandardScaler\n",
        "\n",
        "import matplotlib.pyplot as plt\n",
        "from sklearn.impute import SimpleImputer\n",
        "from sklearn.pipeline import FeatureUnion, Pipeline\n",
        "from sklearn.feature_extraction import DictVectorizer\n",
        "from sklearn.model_selection import cross_val_score\n",
        "sns.set()"
      ],
      "execution_count": 98,
      "outputs": []
    },
    {
      "cell_type": "markdown",
      "metadata": {
        "id": "AqzxGuBEHV64"
      },
      "source": [
        "**Dataset:** Aimes Housing"
      ]
    },
    {
      "cell_type": "code",
      "metadata": {
        "id": "-8X402u_t17i"
      },
      "source": [
        "aimes = pd.read_csv(\"https://assets.datacamp.com/production/repositories/943/datasets/4dbcaee889ef06fb0763e4a8652a4c1f268359b2/ames_housing_trimmed_processed.csv\", header='infer')\n",
        "X_aimes, y_aimes = aimes.iloc[:, :-1], aimes.iloc[:,-1]\n"
      ],
      "execution_count": 13,
      "outputs": []
    },
    {
      "cell_type": "markdown",
      "metadata": {
        "id": "5u6B5xxQHa68"
      },
      "source": [
        "**Dataset:** Chronic Kidney Disease"
      ]
    },
    {
      "cell_type": "code",
      "metadata": {
        "colab": {
          "base_uri": "https://localhost:8080/"
        },
        "id": "aqa3fhwxHf2R",
        "outputId": "b1603cf0-cc8a-4c55-abbe-31aee8803856"
      },
      "source": [
        "features = ['age', 'bp', 'sg', 'al', 'su', 'bgr', 'bu', 'sc', 'sod', 'pot', 'hemo', 'pcv', 'wc', 'rc', 'rbc', 'pc', 'pcc', 'ba', 'htn', 'dm', 'cad', 'appet', 'pe', 'ane', 'ckd']\n",
        "kidDis = pd.read_csv(\"https://assets.datacamp.com/production/repositories/943/datasets/82c231cd41f92325cf33b78aaa360824e6b599b9/chronic_kidney_disease.csv\", header=None, na_values='?', names=features)\n",
        "X_kid, y_kid = kidDis.iloc[:,:-1], LabelEncoder().fit_transform(kidDis.iloc[:,-1])\n",
        "print(X_kid.head())\n",
        "print(y_kid[:5])"
      ],
      "execution_count": 70,
      "outputs": [
        {
          "output_type": "stream",
          "name": "stdout",
          "text": [
            "    age    bp     sg   al   su     bgr  ...  htn   dm cad  appet   pe  ane\n",
            "0  48.0  80.0  1.020  1.0  0.0     NaN  ...  yes  yes  no   good   no   no\n",
            "1   7.0  50.0  1.020  4.0  0.0     NaN  ...   no   no  no   good   no   no\n",
            "2  62.0  80.0  1.010  2.0  3.0  normal  ...   no  yes  no   poor   no  yes\n",
            "3  48.0  70.0  1.005  4.0  0.0  normal  ...  yes   no  no   poor  yes  yes\n",
            "4  51.0  80.0  1.010  2.0  0.0  normal  ...   no   no  no   good   no   no\n",
            "\n",
            "[5 rows x 24 columns]\n",
            "[0 0 0 0 0]\n"
          ]
        }
      ]
    },
    {
      "cell_type": "markdown",
      "metadata": {
        "id": "b9heMWZdprGV"
      },
      "source": [
        "# **Classification with XGBoost**\n",
        "---\n",
        "- Metric for Binary Classification\n",
        "  - **AUC_ROC_SCORE**\n",
        "- Metric for Multi Classification\n",
        "  - **Accuracy** & **Confusion Matrix**\n",
        "- Numeric features are **scaled** \n",
        "- Categorical features **encoded**\n",
        "\n",
        "\n",
        "---\n",
        "**XGBoost**\n",
        "- originally written in C++\n",
        "- optimized gradient boosting ml-library\n",
        "- speed and performance\n",
        "- core algo is parallelizable\n",
        "- outperforms single-algorithm methods\n",
        "- state-of-the-art performance in many ML tasks\n",
        "- it uses CART as **base learners** that store real-valued score in leafs\n",
        "\n",
        "**Boosting**\n",
        "- is a ensemble meta-algorithm i.e. it's a concept that can be applied to different ML methods\n",
        "- it converts weak learners to strong learners\n",
        "\n",
        "\n",
        "**When should XGBoost be used ?**\n",
        "- '#' of samples > '#' of features\n",
        "- Numerical or both numerical + categorical\n",
        "\n",
        "**When should XGBoost not be used ?**\n",
        "- Image Recognition\n",
        "- Computer Vision\n",
        "- NLP\n",
        "\n",
        "\n",
        "\n",
        "\n",
        "\n",
        "\n"
      ]
    },
    {
      "cell_type": "markdown",
      "metadata": {
        "id": "aR3KDbRmpusE"
      },
      "source": [
        "# **Regression with XGBoost**\n",
        "---\n",
        "- **Metrics** : RMSE, MAE\n",
        "- Linear Regression, Decision Trees\n",
        "- Objective ***fx*** (loss) for XGBoost\n",
        " - reg:linear: regression problems\n",
        " - reg:logistic: classification;decision\n",
        " - binary:logistic: classification;probability\n",
        "- individual models = base learners\n",
        "\n",
        "\n"
      ]
    },
    {
      "cell_type": "code",
      "metadata": {
        "colab": {
          "base_uri": "https://localhost:8080/"
        },
        "id": "nfyIBSYaMF3I",
        "outputId": "57d41bf0-461b-4eae-df13-f6a023e5da2a"
      },
      "source": [
        "# Create the training and test sets\n",
        "X_train, X_test, y_train, y_test = train_test_split(X_aimes, y_aimes, test_size=0.2, random_state=123)\n",
        "\n",
        "# Instantiate the XGBRegressor: xg_reg\n",
        "xg_reg = xgb.XGBRegressor(seed=123, objective=\"reg:linear\", n_estimators=10)\n",
        "\n",
        "# Fit the regressor to the training set\n",
        "xg_reg.fit(X_train, y_train)\n",
        "\n",
        "# Predict the labels of the test set: preds\n",
        "preds = xg_reg.predict(X_test)\n",
        "\n",
        "# Compute the rmse: rmse\n",
        "rmse = np.sqrt(mean_squared_error(y_test, preds))\n",
        "print(\"RMSE: %f\" % (rmse))"
      ],
      "execution_count": 14,
      "outputs": [
        {
          "output_type": "stream",
          "name": "stdout",
          "text": [
            "[14:51:01] WARNING: /workspace/src/objective/regression_obj.cu:152: reg:linear is now deprecated in favor of reg:squarederror.\n",
            "RMSE: 78847.401758\n"
          ]
        }
      ]
    },
    {
      "cell_type": "markdown",
      "metadata": {
        "id": "2ApoIrluNeiW"
      },
      "source": [
        "**Linear Base Learner**"
      ]
    },
    {
      "cell_type": "code",
      "metadata": {
        "colab": {
          "base_uri": "https://localhost:8080/"
        },
        "id": "3bj1KbMBNcfa",
        "outputId": "c82c982f-d121-43e2-c8f6-8d338f4e765e"
      },
      "source": [
        "DM_train = xgb.DMatrix(data=X_train, label=y_train)\n",
        "DM_test = xgb.DMatrix(data=X_test, label=y_test)\n",
        "\n",
        "params = {'booster':'gblinear', 'objective':'reg:linear'}\n",
        "xgb_reg = xgb.train(dtrain=DM_train, params=params, num_boost_round=5)\n",
        "\n",
        "y_pred = xgb_reg.predict(DM_test)\n",
        "\n",
        "rmse = np.sqrt(mean_squared_error(y_test, y_pred))\n",
        "\n",
        "print(\"RMSE: {:.3f}\".format(rmse))"
      ],
      "execution_count": 15,
      "outputs": [
        {
          "output_type": "stream",
          "name": "stdout",
          "text": [
            "[14:51:01] WARNING: /workspace/src/objective/regression_obj.cu:152: reg:linear is now deprecated in favor of reg:squarederror.\n",
            "RMSE: 44331.645\n"
          ]
        }
      ]
    },
    {
      "cell_type": "markdown",
      "metadata": {
        "id": "-WVeDjoEPKkc"
      },
      "source": [
        "**Evaluating Model Quality**\n",
        "- **RMSE**\n",
        "- **MAE**\n",
        "\n"
      ]
    },
    {
      "cell_type": "code",
      "metadata": {
        "colab": {
          "base_uri": "https://localhost:8080/"
        },
        "id": "hcnDqjevPZPe",
        "outputId": "d820b35d-3236-412b-ca7c-85fd7febf0a3"
      },
      "source": [
        "housing_dmatrix = xgb.DMatrix(data=X_aimes, label=y_aimes)\n",
        "\n",
        "params = {\"objective\":\"reg:linear\", \"max_depth\":4}\n",
        "\n",
        "cv_results = xgb.cv(dtrain=housing_dmatrix, params=params, nfold=4, num_boost_round=5, metrics=\"rmse\", as_pandas=True, seed=123)\n",
        "\n",
        "print(\"RMSE: {:.3f}\".format((cv_results['test-rmse-mean']).iloc[-1]))"
      ],
      "execution_count": 16,
      "outputs": [
        {
          "output_type": "stream",
          "name": "stdout",
          "text": [
            "[14:51:01] WARNING: /workspace/src/objective/regression_obj.cu:152: reg:linear is now deprecated in favor of reg:squarederror.\n",
            "[14:51:01] WARNING: /workspace/src/objective/regression_obj.cu:152: reg:linear is now deprecated in favor of reg:squarederror.\n",
            "[14:51:01] WARNING: /workspace/src/objective/regression_obj.cu:152: reg:linear is now deprecated in favor of reg:squarederror.\n",
            "[14:51:01] WARNING: /workspace/src/objective/regression_obj.cu:152: reg:linear is now deprecated in favor of reg:squarederror.\n",
            "RMSE: 51348.276\n"
          ]
        }
      ]
    },
    {
      "cell_type": "code",
      "metadata": {
        "colab": {
          "base_uri": "https://localhost:8080/"
        },
        "id": "EXEG_YnvS7ZD",
        "outputId": "7e60e391-c681-4921-fc56-e5d34cadaa6e"
      },
      "source": [
        "cv_results = xgb.cv(dtrain=housing_dmatrix, params=params, nfold=4, num_boost_round=5, metrics=\"mae\", as_pandas=True, seed=123)\n",
        "\n",
        "print(\"MAE: {:.3f}\".format((cv_results[\"test-mae-mean\"]).iloc[-1]))"
      ],
      "execution_count": 17,
      "outputs": [
        {
          "output_type": "stream",
          "name": "stdout",
          "text": [
            "[14:51:02] WARNING: /workspace/src/objective/regression_obj.cu:152: reg:linear is now deprecated in favor of reg:squarederror.\n",
            "[14:51:02] WARNING: /workspace/src/objective/regression_obj.cu:152: reg:linear is now deprecated in favor of reg:squarederror.\n",
            "[14:51:02] WARNING: /workspace/src/objective/regression_obj.cu:152: reg:linear is now deprecated in favor of reg:squarederror.\n",
            "[14:51:02] WARNING: /workspace/src/objective/regression_obj.cu:152: reg:linear is now deprecated in favor of reg:squarederror.\n",
            "MAE: 35670.655\n"
          ]
        }
      ]
    },
    {
      "cell_type": "markdown",
      "metadata": {
        "id": "QXXYyRjYUWmA"
      },
      "source": [
        "**Regularization in XGBoost**\n",
        "- to control model complexity\n",
        "- gamma: min loss reduction for split to occur\n",
        "- alpha: l1 reg. \n",
        "- lambda: l2 reg."
      ]
    },
    {
      "cell_type": "code",
      "metadata": {
        "colab": {
          "base_uri": "https://localhost:8080/",
          "height": 423
        },
        "id": "xDCJQHixaFXu",
        "outputId": "d279e258-e826-475c-a798-63db827dd1be"
      },
      "source": [
        "# Create the DMatrix: housing_dmatrix\n",
        "housing_dmatrix = xgb.DMatrix(data=X_aimes, label=y_aimes)\n",
        "\n",
        "# Create the parameter dictionary: params\n",
        "params = {\"objective\":\"reg:linear\", \"max_depth\":2}\n",
        "\n",
        "# Train the model: xg_reg\n",
        "xg_reg = xgb.train(params=params, dtrain=housing_dmatrix, num_boost_round=10)\n",
        "\n",
        "# Plot the first tree\n",
        "xgb.plot_tree(xg_reg, num_trees=0)\n",
        "plt.show()\n",
        "\n",
        "# Plot the fifth tree\n",
        "xgb.plot_tree(xg_reg, num_trees=4)\n",
        "plt.show()\n",
        "\n",
        "# Plot the last tree sideways\n",
        "xgb.plot_tree(xg_reg, num_trees=9, rankdir=\"LR\")"
      ],
      "execution_count": 18,
      "outputs": [
        {
          "output_type": "stream",
          "name": "stdout",
          "text": [
            "[14:51:02] WARNING: /workspace/src/objective/regression_obj.cu:152: reg:linear is now deprecated in favor of reg:squarederror.\n"
          ]
        },
        {
          "output_type": "display_data",
          "data": {
            "image/png": "[encoded data removed]",
            "text/plain": [
              "<Figure size 432x288 with 1 Axes>"
            ]
          },
          "metadata": {}
        },
        {
          "output_type": "display_data",
          "data": {
            "image/png": "[encoded data removed]",
            "text/plain": [
              "<Figure size 432x288 with 1 Axes>"
            ]
          },
          "metadata": {}
        },
        {
          "output_type": "execute_result",
          "data": {
            "text/plain": [
              "<matplotlib.axes._subplots.AxesSubplot at 0x7f75297012d0>"
            ]
          },
          "metadata": {},
          "execution_count": 18
        },
        {
          "output_type": "display_data",
          "data": {
            "image/png": "[encoded data removed]",
            "text/plain": [
              "<Figure size 432x288 with 1 Axes>"
            ]
          },
          "metadata": {}
        }
      ]
    },
    {
      "cell_type": "code",
      "metadata": {
        "colab": {
          "base_uri": "https://localhost:8080/"
        },
        "id": "2ZO-TDKT25IW",
        "outputId": "31df3119-7451-4c7a-c09e-79b69cc32c85"
      },
      "source": [
        "l1_params = [1, 100, 10000]\n",
        "rmses_l1=[]\n",
        "\n",
        "for reg in l1_params:\n",
        "  params['alpha'] = reg\n",
        "  cv_results = xgb.cv(dtrain=housing_dmatrix, params=params, nfold=4, num_boost_round=10, metrics=\"rmse\", as_pandas=True, seed=123)\n",
        "  rmses_l1.append(cv_results[\"test-rmse-mean\"].tail(1).values[0])\n",
        "\n",
        "print(\"Best rmse as function of l1\\n\")\n",
        "print(pd.DataFrame(list(zip(l1_params, rmses_l1)),columns=[\"l1\", \"rmse\"]))\n",
        "\n",
        "# xgb.plot_importance()"
      ],
      "execution_count": 19,
      "outputs": [
        {
          "output_type": "stream",
          "name": "stdout",
          "text": [
            "[14:51:03] WARNING: /workspace/src/objective/regression_obj.cu:152: reg:linear is now deprecated in favor of reg:squarederror.\n",
            "[14:51:03] WARNING: /workspace/src/objective/regression_obj.cu:152: reg:linear is now deprecated in favor of reg:squarederror.\n",
            "[14:51:03] WARNING: /workspace/src/objective/regression_obj.cu:152: reg:linear is now deprecated in favor of reg:squarederror.\n",
            "[14:51:03] WARNING: /workspace/src/objective/regression_obj.cu:152: reg:linear is now deprecated in favor of reg:squarederror.\n",
            "[14:51:03] WARNING: /workspace/src/objective/regression_obj.cu:152: reg:linear is now deprecated in favor of reg:squarederror.\n",
            "[14:51:03] WARNING: /workspace/src/objective/regression_obj.cu:152: reg:linear is now deprecated in favor of reg:squarederror.\n",
            "[14:51:03] WARNING: /workspace/src/objective/regression_obj.cu:152: reg:linear is now deprecated in favor of reg:squarederror.\n",
            "[14:51:03] WARNING: /workspace/src/objective/regression_obj.cu:152: reg:linear is now deprecated in favor of reg:squarederror.\n",
            "[14:51:03] WARNING: /workspace/src/objective/regression_obj.cu:152: reg:linear is now deprecated in favor of reg:squarederror.\n",
            "[14:51:03] WARNING: /workspace/src/objective/regression_obj.cu:152: reg:linear is now deprecated in favor of reg:squarederror.\n",
            "[14:51:03] WARNING: /workspace/src/objective/regression_obj.cu:152: reg:linear is now deprecated in favor of reg:squarederror.\n",
            "[14:51:03] WARNING: /workspace/src/objective/regression_obj.cu:152: reg:linear is now deprecated in favor of reg:squarederror.\n",
            "Best rmse as function of l1\n",
            "\n",
            "      l1          rmse\n",
            "0      1  38004.135742\n",
            "1    100  38004.057617\n",
            "2  10000  37996.399414\n"
          ]
        }
      ]
    },
    {
      "cell_type": "code",
      "metadata": {
        "colab": {
          "base_uri": "https://localhost:8080/",
          "height": 319
        },
        "id": "JDgwuAtu8rrH",
        "outputId": "b697c248-114a-4c13-ffb1-e6ad446dd96f"
      },
      "source": [
        "# Create the DMatrix: housing_dmatrix\n",
        "housing_dmatrix = xgb.DMatrix(data=X_aimes, label=y_aimes)\n",
        "\n",
        "# Create the parameter dictionary: params\n",
        "params = {\"objective\":\"reg:linear\", \"max_depth\":2}\n",
        "\n",
        "# Train the model: xg_reg\n",
        "xg_reg = xgb.train(params=params, dtrain=housing_dmatrix, num_boost_round=10)\n",
        "\n",
        "# Plot the feature importances\n",
        "xgb.plot_importance(xg_reg)\n",
        "plt.show()"
      ],
      "execution_count": 20,
      "outputs": [
        {
          "output_type": "stream",
          "name": "stdout",
          "text": [
            "[14:51:03] WARNING: /workspace/src/objective/regression_obj.cu:152: reg:linear is now deprecated in favor of reg:squarederror.\n"
          ]
        },
        {
          "output_type": "display_data",
          "data": {
            "image/png": "[encoded data removed]",
            "text/plain": [
              "<Figure size 432x288 with 1 Axes>"
            ]
          },
          "metadata": {}
        }
      ]
    },
    {
      "cell_type": "markdown",
      "metadata": {
        "id": "d3EjD_T7pv1E"
      },
      "source": [
        "# **Fine-tuning your XGBoost model**\n",
        "---\n",
        "Tree based learner\n",
        "- learning rate\n",
        "- gamma: min loss reduction for tree split\n",
        "- alpha\n",
        "- lambda\n",
        "- max_depth\n",
        "- subsample: [0,1], % of samples used per tree\n",
        "- colsample_bytree: [0,1], % of features used per tree\n",
        "- number of estimators\n",
        "\n",
        "Linear based learner\n",
        "- alpha\n",
        "- lambda\n",
        "- lambda_bias\n",
        "- number of estimators\n"
      ]
    },
    {
      "cell_type": "code",
      "metadata": {
        "colab": {
          "base_uri": "https://localhost:8080/"
        },
        "id": "8A7j18Gj9qOS",
        "outputId": "611af96e-de9e-41c2-ca2b-7ca62300c60f"
      },
      "source": [
        "tuned_params = {\"objective\":\"reg:linear\", \"colsample_bytree\":0.3, \"learning_rate\":0.1, \"max_depth\":5}\n",
        "\n",
        "tuned_cv_rmse_results = xgb.cv(params=tuned_params, dtrain=housing_dmatrix, nfold=4, num_boost_round=200,metrics='rmse', as_pandas=True, seed=123)\n",
        "print(\"Tuned RMSE: {:.3f}\".format((tuned_cv_rmse_results[\"test-rmse-mean\"]).iloc[-1]))"
      ],
      "execution_count": 21,
      "outputs": [
        {
          "output_type": "stream",
          "name": "stdout",
          "text": [
            "[14:51:04] WARNING: /workspace/src/objective/regression_obj.cu:152: reg:linear is now deprecated in favor of reg:squarederror.\n",
            "[14:51:04] WARNING: /workspace/src/objective/regression_obj.cu:152: reg:linear is now deprecated in favor of reg:squarederror.\n",
            "[14:51:04] WARNING: /workspace/src/objective/regression_obj.cu:152: reg:linear is now deprecated in favor of reg:squarederror.\n",
            "[14:51:04] WARNING: /workspace/src/objective/regression_obj.cu:152: reg:linear is now deprecated in favor of reg:squarederror.\n",
            "Tuned RMSE: 31111.040\n"
          ]
        }
      ]
    },
    {
      "cell_type": "markdown",
      "metadata": {
        "id": "b3UX2PrgAx-9"
      },
      "source": [
        "**Tuning Boosting Rounds**"
      ]
    },
    {
      "cell_type": "code",
      "metadata": {
        "colab": {
          "base_uri": "https://localhost:8080/"
        },
        "id": "wvCZ4DceAvpL",
        "outputId": "f7eca70d-6355-4580-f15e-3fd62df85be4"
      },
      "source": [
        "housing_dmatrix = xgb.DMatrix(data=X_aimes, label=y_aimes)\n",
        "\n",
        "params = {\"objective\":\"reg:linear\", \"max_depth\":5}\n",
        "\n",
        "num_rounds = [5, 10, 15, 500]\n",
        "\n",
        "final_rmse_per_round = []\n",
        "\n",
        "for round in num_rounds:\n",
        "  cv_results = xgb.cv(dtrain=housing_dmatrix, params=params, nfold=4, num_boost_round=round, metrics=\"rmse\", as_pandas=True, seed=123)\n",
        "  final_rmse_per_round.append(cv_results[\"test-rmse-mean\"].tail().values[-1])\n",
        "\n",
        "round_rmses = pd.DataFrame(list(zip(num_rounds, final_rmse_per_round)), columns=[\"boosting rounds\", \"rmse\"])\n",
        "print(round_rmses)"
      ],
      "execution_count": 22,
      "outputs": [
        {
          "output_type": "stream",
          "name": "stdout",
          "text": [
            "[14:51:06] WARNING: /workspace/src/objective/regression_obj.cu:152: reg:linear is now deprecated in favor of reg:squarederror.\n",
            "[14:51:06] WARNING: /workspace/src/objective/regression_obj.cu:152: reg:linear is now deprecated in favor of reg:squarederror.\n",
            "[14:51:06] WARNING: /workspace/src/objective/regression_obj.cu:152: reg:linear is now deprecated in favor of reg:squarederror.\n",
            "[14:51:06] WARNING: /workspace/src/objective/regression_obj.cu:152: reg:linear is now deprecated in favor of reg:squarederror.\n",
            "[14:51:06] WARNING: /workspace/src/objective/regression_obj.cu:152: reg:linear is now deprecated in favor of reg:squarederror.\n",
            "[14:51:06] WARNING: /workspace/src/objective/regression_obj.cu:152: reg:linear is now deprecated in favor of reg:squarederror.\n",
            "[14:51:06] WARNING: /workspace/src/objective/regression_obj.cu:152: reg:linear is now deprecated in favor of reg:squarederror.\n",
            "[14:51:06] WARNING: /workspace/src/objective/regression_obj.cu:152: reg:linear is now deprecated in favor of reg:squarederror.\n",
            "[14:51:07] WARNING: /workspace/src/objective/regression_obj.cu:152: reg:linear is now deprecated in favor of reg:squarederror.\n",
            "[14:51:07] WARNING: /workspace/src/objective/regression_obj.cu:152: reg:linear is now deprecated in favor of reg:squarederror.\n",
            "[14:51:07] WARNING: /workspace/src/objective/regression_obj.cu:152: reg:linear is now deprecated in favor of reg:squarederror.\n",
            "[14:51:07] WARNING: /workspace/src/objective/regression_obj.cu:152: reg:linear is now deprecated in favor of reg:squarederror.\n",
            "[14:51:07] WARNING: /workspace/src/objective/regression_obj.cu:152: reg:linear is now deprecated in favor of reg:squarederror.\n",
            "[14:51:07] WARNING: /workspace/src/objective/regression_obj.cu:152: reg:linear is now deprecated in favor of reg:squarederror.\n",
            "[14:51:07] WARNING: /workspace/src/objective/regression_obj.cu:152: reg:linear is now deprecated in favor of reg:squarederror.\n",
            "[14:51:07] WARNING: /workspace/src/objective/regression_obj.cu:152: reg:linear is now deprecated in favor of reg:squarederror.\n",
            "   boosting rounds          rmse\n",
            "0                5  50858.787109\n",
            "1               10  34747.699218\n",
            "2               15  33501.580078\n",
            "3              500  33037.762207\n"
          ]
        }
      ]
    },
    {
      "cell_type": "markdown",
      "metadata": {
        "id": "arfGDlctJ_7g"
      },
      "source": [
        "**Early stopping**"
      ]
    },
    {
      "cell_type": "code",
      "metadata": {
        "colab": {
          "base_uri": "https://localhost:8080/"
        },
        "id": "qXKd9UGaJ_kh",
        "outputId": "0743c449-b61b-4557-9e5a-e551d28ab656"
      },
      "source": [
        "housing_dmatrix = xgb.DMatrix(data=X_aimes, label=y_aimes)\n",
        "\n",
        "# Create the parameter dictionary for each tree: params\n",
        "params = {\"objective\":\"reg:linear\", \"max_depth\":4}\n",
        "\n",
        "# Perform cross-validation with early stopping: cv_results\n",
        "cv_results = xgb.cv(dtrain=housing_dmatrix, params=params, metrics=\"rmse\", seed=123, early_stopping_rounds=10, num_boost_round=50, as_pandas=True, nfold=3)\n",
        "\n",
        "# Print cv_results\n",
        "print(cv_results)"
      ],
      "execution_count": 23,
      "outputs": [
        {
          "output_type": "stream",
          "name": "stdout",
          "text": [
            "[14:51:16] WARNING: /workspace/src/objective/regression_obj.cu:152: reg:linear is now deprecated in favor of reg:squarederror.\n",
            "[14:51:16] WARNING: /workspace/src/objective/regression_obj.cu:152: reg:linear is now deprecated in favor of reg:squarederror.\n",
            "[14:51:16] WARNING: /workspace/src/objective/regression_obj.cu:152: reg:linear is now deprecated in favor of reg:squarederror.\n",
            "    train-rmse-mean  train-rmse-std  test-rmse-mean  test-rmse-std\n",
            "0     141871.630208      403.632409   142640.630208     705.552907\n",
            "1     103057.033854       73.787612   104907.677083     111.124997\n",
            "2      75975.958333      253.705643    79262.057292     563.761707\n",
            "3      57420.515625      521.666323    61620.138021    1087.681933\n",
            "4      44552.960938      544.168971    50437.558594    1846.450522\n",
            "5      35763.942708      681.796885    43035.660156    2034.476339\n",
            "6      29861.469401      769.567549    38600.881511    2169.803563\n",
            "7      25994.679036      756.524834    36071.816407    2109.801581\n",
            "8      23306.832031      759.237670    34383.183594    1934.542189\n",
            "9      21459.772786      745.623841    33509.141927    1887.374589\n",
            "10     20148.728516      749.612756    32916.806641    1850.890045\n",
            "11     19215.382162      641.387202    32197.834635    1734.459068\n",
            "12     18627.391276      716.256399    31770.848958    1802.156167\n",
            "13     17960.697265      557.046469    31482.781901    1779.126300\n",
            "14     17559.733724      631.413289    31389.990234    1892.321401\n",
            "15     17205.712891      590.168517    31302.885417    1955.164927\n",
            "16     16876.571615      703.636538    31234.060547    1880.707358\n",
            "17     16597.666992      703.677646    31318.347656    1828.860164\n",
            "18     16330.460612      607.275030    31323.636719    1775.911103\n",
            "19     16005.972331      520.472435    31204.138021    1739.073743\n",
            "20     15814.299479      518.603218    31089.865885    1756.024090\n",
            "21     15493.405924      505.617405    31047.996094    1624.672630\n",
            "22     15270.733724      502.021346    31056.920573    1668.036788\n",
            "23     15086.381836      503.910642    31024.981120    1548.988924\n",
            "24     14917.606445      486.208398    30983.680990    1663.131129\n",
            "25     14709.591797      449.666844    30989.479818    1686.664414\n",
            "26     14457.285156      376.785590    30952.116536    1613.170520\n",
            "27     14185.567708      383.100492    31066.899088    1648.531897\n",
            "28     13934.065104      473.464919    31095.643880    1709.226491\n",
            "29     13749.646485      473.671156    31103.885417    1778.882817\n",
            "30     13549.837891      454.900755    30976.083984    1744.514903\n",
            "31     13413.480469      399.601066    30938.469401    1746.051298\n",
            "32     13275.916341      415.404898    30931.000651    1772.471473\n",
            "33     13085.878906      493.793750    30929.056640    1765.541487\n",
            "34     12947.182292      517.789542    30890.625651    1786.510889\n",
            "35     12846.026367      547.731831    30884.489583    1769.731829\n",
            "36     12702.380534      505.522036    30833.541667    1690.999881\n",
            "37     12532.243815      508.298122    30856.692709    1771.447014\n",
            "38     12384.056641      536.224879    30818.013672    1782.783623\n",
            "39     12198.445312      545.165866    30839.394531    1847.325690\n",
            "40     12054.582682      508.840691    30776.964844    1912.779519\n",
            "41     11897.033528      477.177882    30794.703776    1919.677255\n",
            "42     11756.221354      502.993261    30780.961589    1906.820582\n",
            "43     11618.846029      519.835813    30783.754557    1951.258396\n",
            "44     11484.081380      578.429092    30776.734375    1953.449992\n",
            "45     11356.550781      565.367451    30758.544271    1947.456794\n",
            "46     11193.557292      552.298192    30729.973307    1985.701585\n",
            "47     11071.317383      604.088404    30732.662760    1966.997355\n",
            "48     10950.777018      574.864279    30712.243490    1957.751584\n",
            "49     10824.865885      576.664748    30720.852214    1950.513825\n"
          ]
        }
      ]
    },
    {
      "cell_type": "markdown",
      "metadata": {
        "id": "Z--_09ysNNwa"
      },
      "source": [
        "**Tuning learning rate (eta) values**"
      ]
    },
    {
      "cell_type": "code",
      "metadata": {
        "colab": {
          "base_uri": "https://localhost:8080/"
        },
        "id": "QtELVZDiNR-I",
        "outputId": "fbb56167-0947-4407-97ba-780dc5338c48"
      },
      "source": [
        "# Create your housing DMatrix: housing_dmatrix\n",
        "housing_dmatrix = xgb.DMatrix(data=X_aimes, label=y_aimes)\n",
        "\n",
        "# Create the parameter dictionary for each tree (boosting round)\n",
        "params = {\"objective\":\"reg:linear\", \"max_depth\":3}\n",
        "\n",
        "# Create list of eta values and empty list to store final round rmse per xgboost model\n",
        "eta_vals = [0.001, 0.01, 0.1]\n",
        "best_rmse = []\n",
        "\n",
        "# Systematically vary the eta \n",
        "for curr_val in eta_vals:\n",
        "\n",
        "    params[\"eta\"] = curr_val\n",
        "    \n",
        "    # Perform cross-validation: cv_results\n",
        "    cv_results = xgb.cv(dtrain=housing_dmatrix, params=params, nfold=3, early_stopping_rounds=5, num_boost_round=10, metrics=\"rmse\", seed=123,as_pandas=True)\n",
        "    \n",
        "    \n",
        "    \n",
        "    # Append the final round rmse to best_rmse\n",
        "    best_rmse.append(cv_results[\"test-rmse-mean\"].tail().values[-1])\n",
        "\n",
        "# Print the resultant DataFrame\n",
        "print(pd.DataFrame(list(zip(eta_vals, best_rmse)), columns=[\"eta\",\"best_rmse\"]))\n"
      ],
      "execution_count": 24,
      "outputs": [
        {
          "output_type": "stream",
          "name": "stdout",
          "text": [
            "[14:51:16] WARNING: /workspace/src/objective/regression_obj.cu:152: reg:linear is now deprecated in favor of reg:squarederror.\n",
            "[14:51:16] WARNING: /workspace/src/objective/regression_obj.cu:152: reg:linear is now deprecated in favor of reg:squarederror.\n",
            "[14:51:16] WARNING: /workspace/src/objective/regression_obj.cu:152: reg:linear is now deprecated in favor of reg:squarederror.\n",
            "[14:51:16] WARNING: /workspace/src/objective/regression_obj.cu:152: reg:linear is now deprecated in favor of reg:squarederror.\n",
            "[14:51:16] WARNING: /workspace/src/objective/regression_obj.cu:152: reg:linear is now deprecated in favor of reg:squarederror.\n",
            "[14:51:16] WARNING: /workspace/src/objective/regression_obj.cu:152: reg:linear is now deprecated in favor of reg:squarederror.\n",
            "[14:51:16] WARNING: /workspace/src/objective/regression_obj.cu:152: reg:linear is now deprecated in favor of reg:squarederror.\n",
            "[14:51:16] WARNING: /workspace/src/objective/regression_obj.cu:152: reg:linear is now deprecated in favor of reg:squarederror.\n",
            "[14:51:16] WARNING: /workspace/src/objective/regression_obj.cu:152: reg:linear is now deprecated in favor of reg:squarederror.\n",
            "     eta      best_rmse\n",
            "0  0.001  195736.406250\n",
            "1  0.010  179932.161458\n",
            "2  0.100   79759.401041\n"
          ]
        }
      ]
    },
    {
      "cell_type": "markdown",
      "metadata": {
        "id": "Hj7w4g54PUS2"
      },
      "source": [
        "**Tuning max_depth**"
      ]
    },
    {
      "cell_type": "code",
      "metadata": {
        "colab": {
          "base_uri": "https://localhost:8080/"
        },
        "id": "kHsHOaU_PYnr",
        "outputId": "4f8062d9-c268-4fdc-9239-6605cda2356b"
      },
      "source": [
        "# Create your housing DMatrix\n",
        "housing_dmatrix = xgb.DMatrix(data=X_aimes,label=y_aimes)\n",
        "\n",
        "# Create the parameter dictionary\n",
        "params = {\"objective\":\"reg:linear\"}\n",
        "\n",
        "# Create list of max_depth values\n",
        "max_depths = [2, 5, 10, 20]\n",
        "best_rmse = []\n",
        "\n",
        "# Systematically vary the max_depth\n",
        "for curr_val in max_depths:\n",
        "\n",
        "    params[\"max_depth\"] = curr_val\n",
        "    \n",
        "    # Perform cross-validation\n",
        "    cv_results = xgb.cv(dtrain=housing_dmatrix, params=params, nfold=2, early_stopping_rounds=5, num_boost_round=10, metrics=\"rmse\", seed=123, as_pandas=True)\n",
        "    \n",
        "    # Append the final round rmse to best_rmse\n",
        "    best_rmse.append(cv_results[\"test-rmse-mean\"].tail().values[-1])\n",
        "\n",
        "# Print the resultant DataFrame\n",
        "print(pd.DataFrame(list(zip(max_depths, best_rmse)),columns=[\"max_depth\",\"best_rmse\"]))"
      ],
      "execution_count": 25,
      "outputs": [
        {
          "output_type": "stream",
          "name": "stdout",
          "text": [
            "[14:51:17] WARNING: /workspace/src/objective/regression_obj.cu:152: reg:linear is now deprecated in favor of reg:squarederror.\n",
            "[14:51:17] WARNING: /workspace/src/objective/regression_obj.cu:152: reg:linear is now deprecated in favor of reg:squarederror.\n",
            "[14:51:17] WARNING: /workspace/src/objective/regression_obj.cu:152: reg:linear is now deprecated in favor of reg:squarederror.\n",
            "[14:51:17] WARNING: /workspace/src/objective/regression_obj.cu:152: reg:linear is now deprecated in favor of reg:squarederror.\n",
            "[14:51:17] WARNING: /workspace/src/objective/regression_obj.cu:152: reg:linear is now deprecated in favor of reg:squarederror.\n",
            "[14:51:17] WARNING: /workspace/src/objective/regression_obj.cu:152: reg:linear is now deprecated in favor of reg:squarederror.\n",
            "[14:51:17] WARNING: /workspace/src/objective/regression_obj.cu:152: reg:linear is now deprecated in favor of reg:squarederror.\n",
            "[14:51:17] WARNING: /workspace/src/objective/regression_obj.cu:152: reg:linear is now deprecated in favor of reg:squarederror.\n",
            "   max_depth     best_rmse\n",
            "0          2  37957.476562\n",
            "1          5  35596.599610\n",
            "2         10  36065.537110\n",
            "3         20  36739.574219\n"
          ]
        }
      ]
    },
    {
      "cell_type": "markdown",
      "metadata": {
        "id": "Mm7geamJPr91"
      },
      "source": [
        "**Tuning colsample_bytree**"
      ]
    },
    {
      "cell_type": "code",
      "metadata": {
        "colab": {
          "base_uri": "https://localhost:8080/"
        },
        "id": "-Xa7ijOMPsPT",
        "outputId": "61707a03-a030-41e4-f8df-71e8c713dfc0"
      },
      "source": [
        "# Create your housing DMatrix\n",
        "housing_dmatrix = xgb.DMatrix(data=X_aimes,label=y_aimes)\n",
        "\n",
        "# Create the parameter dictionary\n",
        "params={\"objective\":\"reg:linear\",\"max_depth\":3}\n",
        "\n",
        "# Create list of hyperparameter values: colsample_bytree_vals\n",
        "colsample_bytree_vals = [0.1, 0.5, 0.8, 1]\n",
        "best_rmse = []\n",
        "\n",
        "# Systematically vary the hyperparameter value \n",
        "for curr_val in colsample_bytree_vals:\n",
        "\n",
        "    params[\"colsample_bytree\"] = curr_val\n",
        "    \n",
        "    # Perform cross-validation\n",
        "    cv_results = xgb.cv(dtrain=housing_dmatrix, params=params, nfold=2,\n",
        "                 num_boost_round=10, early_stopping_rounds=5,\n",
        "                 metrics=\"rmse\", as_pandas=True, seed=123)\n",
        "    \n",
        "    # Append the final round rmse to best_rmse\n",
        "    best_rmse.append(cv_results[\"test-rmse-mean\"].tail().values[-1])\n",
        "\n",
        "# Print the resultant DataFrame\n",
        "print(pd.DataFrame(list(zip(colsample_bytree_vals, best_rmse)), columns=[\"colsample_bytree\",\"best_rmse\"]))"
      ],
      "execution_count": 26,
      "outputs": [
        {
          "output_type": "stream",
          "name": "stdout",
          "text": [
            "[14:51:17] WARNING: /workspace/src/objective/regression_obj.cu:152: reg:linear is now deprecated in favor of reg:squarederror.\n",
            "[14:51:17] WARNING: /workspace/src/objective/regression_obj.cu:152: reg:linear is now deprecated in favor of reg:squarederror.\n",
            "[14:51:17] WARNING: /workspace/src/objective/regression_obj.cu:152: reg:linear is now deprecated in favor of reg:squarederror.\n",
            "[14:51:17] WARNING: /workspace/src/objective/regression_obj.cu:152: reg:linear is now deprecated in favor of reg:squarederror.\n",
            "[14:51:17] WARNING: /workspace/src/objective/regression_obj.cu:152: reg:linear is now deprecated in favor of reg:squarederror.\n",
            "[14:51:17] WARNING: /workspace/src/objective/regression_obj.cu:152: reg:linear is now deprecated in favor of reg:squarederror.\n",
            "[14:51:17] WARNING: /workspace/src/objective/regression_obj.cu:152: reg:linear is now deprecated in favor of reg:squarederror.\n",
            "[14:51:17] WARNING: /workspace/src/objective/regression_obj.cu:152: reg:linear is now deprecated in favor of reg:squarederror.\n",
            "   colsample_bytree     best_rmse\n",
            "0               0.1  48193.451172\n",
            "1               0.5  36013.537110\n",
            "2               0.8  35932.960938\n",
            "3               1.0  35836.042968\n"
          ]
        }
      ]
    },
    {
      "cell_type": "markdown",
      "metadata": {
        "id": "1cH9PvnpzsiE"
      },
      "source": [
        "**XGBoost with GridSearch**"
      ]
    },
    {
      "cell_type": "code",
      "metadata": {
        "id": "NLQeRa_TxYMx"
      },
      "source": [
        "gbm = xgb.XGBRegressor()\n",
        "gbm_param_grid = {'learning_rate': [0.01, 0.1, 0.5, 0.9],\n",
        "                  'n_estimators': [200],\n",
        "                  'subsample': [0.3, 0.5, 0.9]\n",
        "                }\n",
        "\n",
        "\n",
        "grid_mse = GridSearchCV(estimator=gbm, param_grid=gbm_param_grid,scoring='neg_mean_squared_error', cv=4, verbose=1)\n",
        "\n",
        "grid_mse.fit(X_aimes, y_aimes)\n",
        "print(\"Best Parameters: \", grid_mse.best_params_)\n",
        "print(\"Lowest RMSE: \", np.sqrt(abs(grid_mse.best_score_)))\n"
      ],
      "execution_count": null,
      "outputs": []
    },
    {
      "cell_type": "code",
      "metadata": {
        "id": "ZMHZy5nA3tIH"
      },
      "source": [
        "gbm = xgb.XGBRegressor()\n",
        "gbm_param_grid = {\n",
        "    'colsample_bytree': [0.3, 0.7],\n",
        "    'n_estimators': [50],\n",
        "    'max_depth': [2, 5]\n",
        "}\n",
        "\n",
        "grid_mse = GridSearchCV(estimator=gbm, param_grid=gbm_param_grid,scoring='neg_mean_squared_error', cv=4, verbose=1)\n",
        "\n",
        "grid_mse.fit(X_aimes, y_aimes)\n",
        "print(\"Best Parameters: \", grid_mse.best_params_)\n",
        "print(\"Lowest RMSE: \", np.sqrt(abs(grid_mse.best_score_)))"
      ],
      "execution_count": null,
      "outputs": []
    },
    {
      "cell_type": "markdown",
      "metadata": {
        "id": "9mERy6ulzyA-"
      },
      "source": [
        "**XGBoost with RandomSearch**"
      ]
    },
    {
      "cell_type": "code",
      "metadata": {
        "id": "vbZOo5pdz6rF"
      },
      "source": [
        "gbm_param_grid = {'learning_rate': np.arange(0.05, 1.05, 0.05),\n",
        "                  'n_estimators': [200],\n",
        "                  'subsample': np.arange(0.05, 1.05, 0.05)\n",
        "                }\n",
        "\n",
        "rscv_mse = RandomizedSearchCV(estimator=gbm, param_distributions=gbm_param_grid,scoring='neg_mean_squared_error', cv=4, verbose=1)\n",
        "\n",
        "rscv_mse.fit(X_aimes, y_aimes)\n",
        "print(\"Best Parameters: \", rscv_mse.best_params_)\n",
        "print(\"Lowest RMSE: \", np.sqrt(np.abs(rscv_mse.best_score_)))"
      ],
      "execution_count": null,
      "outputs": []
    },
    {
      "cell_type": "code",
      "metadata": {
        "colab": {
          "base_uri": "https://localhost:8080/"
        },
        "id": "TTPpANUU4K7d",
        "outputId": "df992ab2-6dc8-48ca-8837-89f9474a74d8"
      },
      "source": [
        "gbm = xgb.XGBRegressor()\n",
        "gbm_param_grid = {\n",
        "    'n_estimators': [25],\n",
        "    'max_depth': range(2, 12)\n",
        "}\n",
        "\n",
        "grid_mse = GridSearchCV(estimator=gbm, param_grid=gbm_param_grid,scoring='neg_mean_squared_error', cv=4, verbose=1)\n",
        "\n",
        "grid_mse.fit(X_aimes, y_aimes)\n",
        "print(\"Best Parameters: \", grid_mse.best_params_)\n",
        "print(\"Lowest RMSE: \", np.sqrt(abs(grid_mse.best_score_)))"
      ],
      "execution_count": 36,
      "outputs": [
        {
          "output_type": "stream",
          "name": "stdout",
          "text": [
            "Fitting 4 folds for each of 10 candidates, totalling 40 fits\n",
            "[15:21:15] WARNING: /workspace/src/objective/regression_obj.cu:152: reg:linear is now deprecated in favor of reg:squarederror.\n",
            "[15:21:15] WARNING: /workspace/src/objective/regression_obj.cu:152: reg:linear is now deprecated in favor of reg:squarederror.\n",
            "[15:21:15] WARNING: /workspace/src/objective/regression_obj.cu:152: reg:linear is now deprecated in favor of reg:squarederror.\n",
            "[15:21:15] WARNING: /workspace/src/objective/regression_obj.cu:152: reg:linear is now deprecated in favor of reg:squarederror.\n"
          ]
        },
        {
          "output_type": "stream",
          "name": "stderr",
          "text": [
            "[Parallel(n_jobs=1)]: Using backend SequentialBackend with 1 concurrent workers.\n"
          ]
        },
        {
          "output_type": "stream",
          "name": "stdout",
          "text": [
            "[15:21:15] WARNING: /workspace/src/objective/regression_obj.cu:152: reg:linear is now deprecated in favor of reg:squarederror.\n",
            "[15:21:15] WARNING: /workspace/src/objective/regression_obj.cu:152: reg:linear is now deprecated in favor of reg:squarederror.\n",
            "[15:21:15] WARNING: /workspace/src/objective/regression_obj.cu:152: reg:linear is now deprecated in favor of reg:squarederror.\n",
            "[15:21:15] WARNING: /workspace/src/objective/regression_obj.cu:152: reg:linear is now deprecated in favor of reg:squarederror.\n",
            "[15:21:15] WARNING: /workspace/src/objective/regression_obj.cu:152: reg:linear is now deprecated in favor of reg:squarederror.\n",
            "[15:21:15] WARNING: /workspace/src/objective/regression_obj.cu:152: reg:linear is now deprecated in favor of reg:squarederror.\n",
            "[15:21:15] WARNING: /workspace/src/objective/regression_obj.cu:152: reg:linear is now deprecated in favor of reg:squarederror.\n",
            "[15:21:15] WARNING: /workspace/src/objective/regression_obj.cu:152: reg:linear is now deprecated in favor of reg:squarederror.\n",
            "[15:21:16] WARNING: /workspace/src/objective/regression_obj.cu:152: reg:linear is now deprecated in favor of reg:squarederror.\n",
            "[15:21:16] WARNING: /workspace/src/objective/regression_obj.cu:152: reg:linear is now deprecated in favor of reg:squarederror.\n",
            "[15:21:16] WARNING: /workspace/src/objective/regression_obj.cu:152: reg:linear is now deprecated in favor of reg:squarederror.\n",
            "[15:21:16] WARNING: /workspace/src/objective/regression_obj.cu:152: reg:linear is now deprecated in favor of reg:squarederror.\n",
            "[15:21:16] WARNING: /workspace/src/objective/regression_obj.cu:152: reg:linear is now deprecated in favor of reg:squarederror.\n",
            "[15:21:16] WARNING: /workspace/src/objective/regression_obj.cu:152: reg:linear is now deprecated in favor of reg:squarederror.\n",
            "[15:21:16] WARNING: /workspace/src/objective/regression_obj.cu:152: reg:linear is now deprecated in favor of reg:squarederror.\n",
            "[15:21:16] WARNING: /workspace/src/objective/regression_obj.cu:152: reg:linear is now deprecated in favor of reg:squarederror.\n",
            "[15:21:16] WARNING: /workspace/src/objective/regression_obj.cu:152: reg:linear is now deprecated in favor of reg:squarederror.\n",
            "[15:21:16] WARNING: /workspace/src/objective/regression_obj.cu:152: reg:linear is now deprecated in favor of reg:squarederror.\n",
            "[15:21:17] WARNING: /workspace/src/objective/regression_obj.cu:152: reg:linear is now deprecated in favor of reg:squarederror.\n",
            "[15:21:17] WARNING: /workspace/src/objective/regression_obj.cu:152: reg:linear is now deprecated in favor of reg:squarederror.\n",
            "[15:21:17] WARNING: /workspace/src/objective/regression_obj.cu:152: reg:linear is now deprecated in favor of reg:squarederror.\n",
            "[15:21:17] WARNING: /workspace/src/objective/regression_obj.cu:152: reg:linear is now deprecated in favor of reg:squarederror.\n",
            "[15:21:17] WARNING: /workspace/src/objective/regression_obj.cu:152: reg:linear is now deprecated in favor of reg:squarederror.\n",
            "[15:21:17] WARNING: /workspace/src/objective/regression_obj.cu:152: reg:linear is now deprecated in favor of reg:squarederror.\n",
            "[15:21:17] WARNING: /workspace/src/objective/regression_obj.cu:152: reg:linear is now deprecated in favor of reg:squarederror.\n",
            "[15:21:17] WARNING: /workspace/src/objective/regression_obj.cu:152: reg:linear is now deprecated in favor of reg:squarederror.\n",
            "[15:21:18] WARNING: /workspace/src/objective/regression_obj.cu:152: reg:linear is now deprecated in favor of reg:squarederror.\n",
            "[15:21:18] WARNING: /workspace/src/objective/regression_obj.cu:152: reg:linear is now deprecated in favor of reg:squarederror.\n",
            "[15:21:18] WARNING: /workspace/src/objective/regression_obj.cu:152: reg:linear is now deprecated in favor of reg:squarederror.\n",
            "[15:21:18] WARNING: /workspace/src/objective/regression_obj.cu:152: reg:linear is now deprecated in favor of reg:squarederror.\n",
            "[15:21:18] WARNING: /workspace/src/objective/regression_obj.cu:152: reg:linear is now deprecated in favor of reg:squarederror.\n",
            "[15:21:18] WARNING: /workspace/src/objective/regression_obj.cu:152: reg:linear is now deprecated in favor of reg:squarederror.\n",
            "[15:21:19] WARNING: /workspace/src/objective/regression_obj.cu:152: reg:linear is now deprecated in favor of reg:squarederror.\n",
            "[15:21:19] WARNING: /workspace/src/objective/regression_obj.cu:152: reg:linear is now deprecated in favor of reg:squarederror.\n",
            "[15:21:19] WARNING: /workspace/src/objective/regression_obj.cu:152: reg:linear is now deprecated in favor of reg:squarederror.\n",
            "[15:21:19] WARNING: /workspace/src/objective/regression_obj.cu:152: reg:linear is now deprecated in favor of reg:squarederror.\n",
            "[15:21:19] WARNING: /workspace/src/objective/regression_obj.cu:152: reg:linear is now deprecated in favor of reg:squarederror.\n",
            "Best Parameters:  {'max_depth': 5, 'n_estimators': 25}\n",
            "Lowest RMSE:  36636.35808132903\n"
          ]
        },
        {
          "output_type": "stream",
          "name": "stderr",
          "text": [
            "[Parallel(n_jobs=1)]: Done  40 out of  40 | elapsed:    4.5s finished\n"
          ]
        }
      ]
    },
    {
      "cell_type": "markdown",
      "metadata": {
        "id": "JAYLjjFupwQy"
      },
      "source": [
        "# **Using XGBoost in pipelines**\n"
      ]
    },
    {
      "cell_type": "markdown",
      "metadata": {
        "id": "zdRNtG_MIJJG"
      },
      "source": [
        "**Case Study 1:** Chronic Kidney Disease "
      ]
    },
    {
      "cell_type": "code",
      "metadata": {
        "colab": {
          "base_uri": "https://localhost:8080/"
        },
        "id": "wwYfjbhiJYBK",
        "outputId": "54df1879-a25d-4aab-92b4-f79696dfb425"
      },
      "source": [
        "# Check number of nulls in each feature column\n",
        "nullsPerColumn = kidDis.isnull().sum()\n",
        "print(nullsPerColumn)"
      ],
      "execution_count": 47,
      "outputs": [
        {
          "output_type": "stream",
          "name": "stdout",
          "text": [
            "age        9\n",
            "bp        12\n",
            "sg        47\n",
            "al        46\n",
            "su        49\n",
            "bgr      152\n",
            "bu        65\n",
            "sc         4\n",
            "sod        4\n",
            "pot       44\n",
            "hemo      19\n",
            "pcv       17\n",
            "wc        87\n",
            "rc        88\n",
            "rbc       52\n",
            "pc        71\n",
            "pcc      106\n",
            "ba       131\n",
            "htn        2\n",
            "dm         2\n",
            "cad        2\n",
            "appet      1\n",
            "pe         1\n",
            "ane        1\n",
            "ckd        0\n",
            "dtype: int64\n"
          ]
        }
      ]
    },
    {
      "cell_type": "code",
      "metadata": {
        "id": "-NUDbf1BJsfq"
      },
      "source": [
        "# Boolean mask for categorical columns\n",
        "categoricalFeatureMask = X_kid.dtypes == object\n",
        "\n",
        "# Get Categorical Columns\n",
        "categorical_features = X_kid.columns[categoricalFeatureMask].tolist()\n",
        "\n",
        "# Get Numerical Columns\n",
        "noncategorical_features = X_kid.columns[~categoricalFeatureMask].tolist()\n",
        "\n",
        "# Apply Numeric Imputer\n",
        "numericImputationMapper = DataFrameMapper([([numeric_feature], SimpleImputer(strategy=\"median\")) for numeric_feature in noncategorical_features], input_df=True, df_out=True)\n",
        "\n",
        "# Apply Categorical Imputer\n",
        "categoricalImputationMapper = DataFrameMapper([(category_feature, CategoricalImputer()) for category_feature in categorical_features], input_df=True, df_out=True)"
      ],
      "execution_count": 92,
      "outputs": []
    },
    {
      "cell_type": "code",
      "metadata": {
        "colab": {
          "base_uri": "https://localhost:8080/",
          "height": 357
        },
        "id": "T9H_9zJULsLe",
        "outputId": "eb496a7e-ae53-4f8b-aaa6-95b39d2921b0"
      },
      "source": [
        "numericCategoricalUnion = FeatureUnion([(\"num_mapper\", numericImputationMapper), \n",
        "                                        (\"cat_mapper\", categoricalImputationMapper)])\n",
        "print(pd.DataFrame(numericCategoricalUnion).head())\n",
        "# dictResult = DictVectorizer(sort=False).fit_transform(numericCategoricalUnion.to_dict(\"records\"))\n",
        "\n",
        "# xgbc = xgb.XGBClassifier(max_depth=3)\n",
        "# cross_val_scores = cross_val_score(xgbc, dictResult, y_kid, scoring=\"roc_auc\", cv=3)\n",
        "# print(\"3-fold AUC mean:\", np.mean(cross_val_scores))\n",
        "# # def Dictifier(x):\n",
        "# #   return x.to_dict(\"records\")"
      ],
      "execution_count": 96,
      "outputs": [
        {
          "output_type": "error",
          "ename": "ValueError",
          "evalue": "ignored",
          "traceback": [
            "\u001b[0;31m---------------------------------------------------------------------------\u001b[0m",
            "\u001b[0;31mValueError\u001b[0m                                Traceback (most recent call last)",
            "\u001b[0;32m<ipython-input-96-aab335d2739b>\u001b[0m in \u001b[0;36m<module>\u001b[0;34m()\u001b[0m\n\u001b[1;32m      1\u001b[0m numericCategoricalUnion = FeatureUnion([(\"num_mapper\", numericImputationMapper), \n\u001b[1;32m      2\u001b[0m                                         (\"cat_mapper\", categoricalImputationMapper)])\n\u001b[0;32m----> 3\u001b[0;31m \u001b[0mprint\u001b[0m\u001b[0;34m(\u001b[0m\u001b[0mpd\u001b[0m\u001b[0;34m.\u001b[0m\u001b[0mDataFrame\u001b[0m\u001b[0;34m(\u001b[0m\u001b[0mnumericCategoricalUnion\u001b[0m\u001b[0;34m)\u001b[0m\u001b[0;34m.\u001b[0m\u001b[0mhead\u001b[0m\u001b[0;34m(\u001b[0m\u001b[0;34m)\u001b[0m\u001b[0;34m)\u001b[0m\u001b[0;34m\u001b[0m\u001b[0;34m\u001b[0m\u001b[0m\n\u001b[0m\u001b[1;32m      4\u001b[0m \u001b[0;31m# dictResult = DictVectorizer(sort=False).fit_transform(numericCategoricalUnion.to_dict(\"records\"))\u001b[0m\u001b[0;34m\u001b[0m\u001b[0;34m\u001b[0m\u001b[0;34m\u001b[0m\u001b[0m\n\u001b[1;32m      5\u001b[0m \u001b[0;34m\u001b[0m\u001b[0m\n",
            "\u001b[0;32m/usr/local/lib/python3.7/dist-packages/pandas/core/frame.py\u001b[0m in \u001b[0;36m__init__\u001b[0;34m(self, data, index, columns, dtype, copy)\u001b[0m\n\u001b[1;32m    527\u001b[0m         \u001b[0;32melse\u001b[0m\u001b[0;34m:\u001b[0m\u001b[0;34m\u001b[0m\u001b[0;34m\u001b[0m\u001b[0m\n\u001b[1;32m    528\u001b[0m             \u001b[0;32mif\u001b[0m \u001b[0mindex\u001b[0m \u001b[0;32mis\u001b[0m \u001b[0;32mNone\u001b[0m \u001b[0;32mor\u001b[0m \u001b[0mcolumns\u001b[0m \u001b[0;32mis\u001b[0m \u001b[0;32mNone\u001b[0m\u001b[0;34m:\u001b[0m\u001b[0;34m\u001b[0m\u001b[0;34m\u001b[0m\u001b[0m\n\u001b[0;32m--> 529\u001b[0;31m                 \u001b[0;32mraise\u001b[0m \u001b[0mValueError\u001b[0m\u001b[0;34m(\u001b[0m\u001b[0;34m\"DataFrame constructor not properly called!\"\u001b[0m\u001b[0;34m)\u001b[0m\u001b[0;34m\u001b[0m\u001b[0;34m\u001b[0m\u001b[0m\n\u001b[0m\u001b[1;32m    530\u001b[0m \u001b[0;34m\u001b[0m\u001b[0m\n\u001b[1;32m    531\u001b[0m             \u001b[0;32mif\u001b[0m \u001b[0;32mnot\u001b[0m \u001b[0mdtype\u001b[0m\u001b[0;34m:\u001b[0m\u001b[0;34m\u001b[0m\u001b[0;34m\u001b[0m\u001b[0m\n",
            "\u001b[0;31mValueError\u001b[0m: DataFrame constructor not properly called!"
          ]
        }
      ]
    },
    {
      "cell_type": "code",
      "metadata": {
        "colab": {
          "base_uri": "https://localhost:8080/",
          "height": 398
        },
        "id": "Ku_Nv6t6Xt8b",
        "outputId": "8ce066cb-c237-48c0-f920-8a17a0741488"
      },
      "source": [
        "\n",
        "\n",
        "pipeline = Pipeline([(\"featureunion\", numericCategoricalUnion),\n",
        "                      (\"dictifier\", Dictifier),\n",
        "                      (\"vectorizer\", DictVectorizer(sort=False)),\n",
        "                      (\"clf\", xgb.XGBClassifier(max_depth=3)) ])\n",
        "\n",
        "cross_val_scores = cross_val_score(pipeline, X_kid, y_kid, scoring=\"roc_auc\", cv=3)\n",
        "\n",
        "print(\"3-fold AUC mean:\", np.mean(cross_val_scores))"
      ],
      "execution_count": 91,
      "outputs": [
        {
          "output_type": "error",
          "ename": "TypeError",
          "evalue": "ignored",
          "traceback": [
            "\u001b[0;31m---------------------------------------------------------------------------\u001b[0m",
            "\u001b[0;31mTypeError\u001b[0m                                 Traceback (most recent call last)",
            "\u001b[0;32m<ipython-input-91-58ded15cc30e>\u001b[0m in \u001b[0;36m<module>\u001b[0;34m()\u001b[0m\n\u001b[1;32m      2\u001b[0m                       \u001b[0;34m(\u001b[0m\u001b[0;34m\"dictifier\"\u001b[0m\u001b[0;34m,\u001b[0m \u001b[0mDictifier\u001b[0m\u001b[0;34m)\u001b[0m\u001b[0;34m,\u001b[0m\u001b[0;34m\u001b[0m\u001b[0;34m\u001b[0m\u001b[0m\n\u001b[1;32m      3\u001b[0m                       \u001b[0;34m(\u001b[0m\u001b[0;34m\"vectorizer\"\u001b[0m\u001b[0;34m,\u001b[0m \u001b[0mDictVectorizer\u001b[0m\u001b[0;34m(\u001b[0m\u001b[0msort\u001b[0m\u001b[0;34m=\u001b[0m\u001b[0;32mFalse\u001b[0m\u001b[0;34m)\u001b[0m\u001b[0;34m)\u001b[0m\u001b[0;34m,\u001b[0m\u001b[0;34m\u001b[0m\u001b[0;34m\u001b[0m\u001b[0m\n\u001b[0;32m----> 4\u001b[0;31m                       (\"clf\", xgb.XGBClassifier(max_depth=3)) ])\n\u001b[0m\u001b[1;32m      5\u001b[0m \u001b[0;34m\u001b[0m\u001b[0m\n\u001b[1;32m      6\u001b[0m \u001b[0mcross_val_scores\u001b[0m \u001b[0;34m=\u001b[0m \u001b[0mcross_val_score\u001b[0m\u001b[0;34m(\u001b[0m\u001b[0mpipeline\u001b[0m\u001b[0;34m,\u001b[0m \u001b[0mX_kid\u001b[0m\u001b[0;34m,\u001b[0m \u001b[0my_kid\u001b[0m\u001b[0;34m,\u001b[0m \u001b[0mscoring\u001b[0m\u001b[0;34m=\u001b[0m\u001b[0;34m\"roc_auc\"\u001b[0m\u001b[0;34m,\u001b[0m \u001b[0mcv\u001b[0m\u001b[0;34m=\u001b[0m\u001b[0;36m3\u001b[0m\u001b[0;34m)\u001b[0m\u001b[0;34m\u001b[0m\u001b[0;34m\u001b[0m\u001b[0m\n",
            "\u001b[0;32m/usr/local/lib/python3.7/dist-packages/sklearn/pipeline.py\u001b[0m in \u001b[0;36m__init__\u001b[0;34m(self, steps, memory, verbose)\u001b[0m\n\u001b[1;32m    134\u001b[0m         \u001b[0mself\u001b[0m\u001b[0;34m.\u001b[0m\u001b[0mmemory\u001b[0m \u001b[0;34m=\u001b[0m \u001b[0mmemory\u001b[0m\u001b[0;34m\u001b[0m\u001b[0;34m\u001b[0m\u001b[0m\n\u001b[1;32m    135\u001b[0m         \u001b[0mself\u001b[0m\u001b[0;34m.\u001b[0m\u001b[0mverbose\u001b[0m \u001b[0;34m=\u001b[0m \u001b[0mverbose\u001b[0m\u001b[0;34m\u001b[0m\u001b[0;34m\u001b[0m\u001b[0m\n\u001b[0;32m--> 136\u001b[0;31m         \u001b[0mself\u001b[0m\u001b[0;34m.\u001b[0m\u001b[0m_validate_steps\u001b[0m\u001b[0;34m(\u001b[0m\u001b[0;34m)\u001b[0m\u001b[0;34m\u001b[0m\u001b[0;34m\u001b[0m\u001b[0m\n\u001b[0m\u001b[1;32m    137\u001b[0m \u001b[0;34m\u001b[0m\u001b[0m\n\u001b[1;32m    138\u001b[0m     \u001b[0;32mdef\u001b[0m \u001b[0mget_params\u001b[0m\u001b[0;34m(\u001b[0m\u001b[0mself\u001b[0m\u001b[0;34m,\u001b[0m \u001b[0mdeep\u001b[0m\u001b[0;34m=\u001b[0m\u001b[0;32mTrue\u001b[0m\u001b[0;34m)\u001b[0m\u001b[0;34m:\u001b[0m\u001b[0;34m\u001b[0m\u001b[0;34m\u001b[0m\u001b[0m\n",
            "\u001b[0;32m/usr/local/lib/python3.7/dist-packages/sklearn/pipeline.py\u001b[0m in \u001b[0;36m_validate_steps\u001b[0;34m(self)\u001b[0m\n\u001b[1;32m    182\u001b[0m                                 \u001b[0;34m\"transformers and implement fit and transform \"\u001b[0m\u001b[0;34m\u001b[0m\u001b[0;34m\u001b[0m\u001b[0m\n\u001b[1;32m    183\u001b[0m                                 \u001b[0;34m\"or be the string 'passthrough' \"\u001b[0m\u001b[0;34m\u001b[0m\u001b[0;34m\u001b[0m\u001b[0m\n\u001b[0;32m--> 184\u001b[0;31m                                 \"'%s' (type %s) doesn't\" % (t, type(t)))\n\u001b[0m\u001b[1;32m    185\u001b[0m \u001b[0;34m\u001b[0m\u001b[0m\n\u001b[1;32m    186\u001b[0m         \u001b[0;31m# We allow last estimator to be None as an identity transformation\u001b[0m\u001b[0;34m\u001b[0m\u001b[0;34m\u001b[0m\u001b[0;34m\u001b[0m\u001b[0m\n",
            "\u001b[0;31mTypeError\u001b[0m: All intermediate steps should be transformers and implement fit and transform or be the string 'passthrough' '<function Dictifier at 0x7f75260ad830>' (type <class 'function'>) doesn't"
          ]
        }
      ]
    },
    {
      "cell_type": "code",
      "metadata": {
        "colab": {
          "base_uri": "https://localhost:8080/"
        },
        "id": "n6Bb4Bafb4Qg",
        "outputId": "7a1e5232-9f1c-46c8-aff2-984bbb917c4c"
      },
      "source": [
        "xgb_pipeline = Pipeline([(\"scaler\", StandardScaler()),\n",
        "                        (\"xgb_model\", xgb.XGBRegressor())])\n",
        "\n",
        "gbm_param_grid = { \"xgb_model__subsample\": np.arange(0.05, 1, 0.05),\n",
        "                   \"xgb_model__max_depth\": np.arange(3,20,1),\n",
        "                   \"xgb_model__colsample_bytree\": np.arange(0.1, 1.05, 0.05)\n",
        "                  }\n",
        "\n",
        "randomized_neg_mse = RandomizedSearchCV(estimator=xgb_pipeline, param_distributions=gbm_param_grid, n_iter=10, scoring=\"neg_mean_squared_error\", cv=4)\n",
        "randomized_neg_mse.fit(X_aimes, y_aimes)\n",
        "\n",
        "print(\"Best RMSE:\", np.sqrt(np.abs(randomized_neg_mse.best_score_)))"
      ],
      "execution_count": 103,
      "outputs": [
        {
          "output_type": "stream",
          "name": "stdout",
          "text": [
            "[19:43:03] WARNING: /workspace/src/objective/regression_obj.cu:152: reg:linear is now deprecated in favor of reg:squarederror.\n",
            "[19:43:04] WARNING: /workspace/src/objective/regression_obj.cu:152: reg:linear is now deprecated in favor of reg:squarederror.\n",
            "[19:43:05] WARNING: /workspace/src/objective/regression_obj.cu:152: reg:linear is now deprecated in favor of reg:squarederror.\n",
            "[19:43:05] WARNING: /workspace/src/objective/regression_obj.cu:152: reg:linear is now deprecated in favor of reg:squarederror.\n",
            "[19:43:06] WARNING: /workspace/src/objective/regression_obj.cu:152: reg:linear is now deprecated in favor of reg:squarederror.\n",
            "[19:43:06] WARNING: /workspace/src/objective/regression_obj.cu:152: reg:linear is now deprecated in favor of reg:squarederror.\n",
            "[19:43:06] WARNING: /workspace/src/objective/regression_obj.cu:152: reg:linear is now deprecated in favor of reg:squarederror.\n",
            "[19:43:07] WARNING: /workspace/src/objective/regression_obj.cu:152: reg:linear is now deprecated in favor of reg:squarederror.\n",
            "[19:43:07] WARNING: /workspace/src/objective/regression_obj.cu:152: reg:linear is now deprecated in favor of reg:squarederror.\n",
            "[19:43:07] WARNING: /workspace/src/objective/regression_obj.cu:152: reg:linear is now deprecated in favor of reg:squarederror.\n",
            "[19:43:08] WARNING: /workspace/src/objective/regression_obj.cu:152: reg:linear is now deprecated in favor of reg:squarederror.\n",
            "[19:43:08] WARNING: /workspace/src/objective/regression_obj.cu:152: reg:linear is now deprecated in favor of reg:squarederror.\n",
            "[19:43:08] WARNING: /workspace/src/objective/regression_obj.cu:152: reg:linear is now deprecated in favor of reg:squarederror.\n",
            "[19:43:08] WARNING: /workspace/src/objective/regression_obj.cu:152: reg:linear is now deprecated in favor of reg:squarederror.\n",
            "[19:43:09] WARNING: /workspace/src/objective/regression_obj.cu:152: reg:linear is now deprecated in favor of reg:squarederror.\n",
            "[19:43:09] WARNING: /workspace/src/objective/regression_obj.cu:152: reg:linear is now deprecated in favor of reg:squarederror.\n",
            "[19:43:09] WARNING: /workspace/src/objective/regression_obj.cu:152: reg:linear is now deprecated in favor of reg:squarederror.\n",
            "[19:43:09] WARNING: /workspace/src/objective/regression_obj.cu:152: reg:linear is now deprecated in favor of reg:squarederror.\n",
            "[19:43:09] WARNING: /workspace/src/objective/regression_obj.cu:152: reg:linear is now deprecated in favor of reg:squarederror.\n",
            "[19:43:09] WARNING: /workspace/src/objective/regression_obj.cu:152: reg:linear is now deprecated in favor of reg:squarederror.\n",
            "[19:43:10] WARNING: /workspace/src/objective/regression_obj.cu:152: reg:linear is now deprecated in favor of reg:squarederror.\n",
            "[19:43:10] WARNING: /workspace/src/objective/regression_obj.cu:152: reg:linear is now deprecated in favor of reg:squarederror.\n",
            "[19:43:11] WARNING: /workspace/src/objective/regression_obj.cu:152: reg:linear is now deprecated in favor of reg:squarederror.\n",
            "[19:43:11] WARNING: /workspace/src/objective/regression_obj.cu:152: reg:linear is now deprecated in favor of reg:squarederror.\n",
            "[19:43:11] WARNING: /workspace/src/objective/regression_obj.cu:152: reg:linear is now deprecated in favor of reg:squarederror.\n",
            "[19:43:12] WARNING: /workspace/src/objective/regression_obj.cu:152: reg:linear is now deprecated in favor of reg:squarederror.\n",
            "[19:43:12] WARNING: /workspace/src/objective/regression_obj.cu:152: reg:linear is now deprecated in favor of reg:squarederror.\n",
            "[19:43:13] WARNING: /workspace/src/objective/regression_obj.cu:152: reg:linear is now deprecated in favor of reg:squarederror.\n",
            "[19:43:13] WARNING: /workspace/src/objective/regression_obj.cu:152: reg:linear is now deprecated in favor of reg:squarederror.\n",
            "[19:43:14] WARNING: /workspace/src/objective/regression_obj.cu:152: reg:linear is now deprecated in favor of reg:squarederror.\n",
            "[19:43:15] WARNING: /workspace/src/objective/regression_obj.cu:152: reg:linear is now deprecated in favor of reg:squarederror.\n",
            "[19:43:16] WARNING: /workspace/src/objective/regression_obj.cu:152: reg:linear is now deprecated in favor of reg:squarederror.\n",
            "[19:43:17] WARNING: /workspace/src/objective/regression_obj.cu:152: reg:linear is now deprecated in favor of reg:squarederror.\n",
            "[19:43:17] WARNING: /workspace/src/objective/regression_obj.cu:152: reg:linear is now deprecated in favor of reg:squarederror.\n",
            "[19:43:17] WARNING: /workspace/src/objective/regression_obj.cu:152: reg:linear is now deprecated in favor of reg:squarederror.\n",
            "[19:43:17] WARNING: /workspace/src/objective/regression_obj.cu:152: reg:linear is now deprecated in favor of reg:squarederror.\n",
            "[19:43:17] WARNING: /workspace/src/objective/regression_obj.cu:152: reg:linear is now deprecated in favor of reg:squarederror.\n",
            "[19:43:18] WARNING: /workspace/src/objective/regression_obj.cu:152: reg:linear is now deprecated in favor of reg:squarederror.\n",
            "[19:43:18] WARNING: /workspace/src/objective/regression_obj.cu:152: reg:linear is now deprecated in favor of reg:squarederror.\n",
            "[19:43:18] WARNING: /workspace/src/objective/regression_obj.cu:152: reg:linear is now deprecated in favor of reg:squarederror.\n",
            "[19:43:19] WARNING: /workspace/src/objective/regression_obj.cu:152: reg:linear is now deprecated in favor of reg:squarederror.\n",
            "Best RMSE: 29376.920838284666\n"
          ]
        }
      ]
    },
    {
      "cell_type": "code",
      "metadata": {
        "id": "3hGBU_9uqGGH"
      },
      "source": [
        ""
      ],
      "execution_count": null,
      "outputs": []
    }
  ]
}